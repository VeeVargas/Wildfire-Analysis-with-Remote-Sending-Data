{
 "cells": [
  {
   "cell_type": "markdown",
   "metadata": {
    "toc": true
   },
   "source": [
    "<h1>Table of Contents<span class=\"tocSkip\"></span></h1>\n",
    "<div class=\"toc\"><ul class=\"toc-item\"><li><span><a href=\"#Per-Region\" data-toc-modified-id=\"Per-Region-1\">Per Region</a></span></li></ul></div>"
   ]
  },
  {
   "cell_type": "code",
   "execution_count": 11,
   "metadata": {},
   "outputs": [],
   "source": [
    "import pandas as pd\n",
    "import datetime\n",
    "import numpy as np\n",
    "import scipy as sp\n",
    "import scipy.fftpack\n",
    "\n",
    "from pandas.io.json import json_normalize\n",
    "from shapely.geometry import Polygon, mapping\n",
    "import geopandas as gpd\n",
    "import folium\n",
    "from folium.plugins import TimeSliderChoropleth\n",
    "import seaborn as sns\n",
    "import matplotlib.pyplot as plt\n",
    "import raster2xyz\n",
    "\n",
    "import warnings\n",
    "warnings.filterwarnings(\"ignore\")"
   ]
  },
  {
   "cell_type": "code",
   "execution_count": 2,
   "metadata": {},
   "outputs": [],
   "source": [
    "url = 'http://www.rfs.nsw.gov.au/feeds/majorIncidents.json'"
   ]
  },
  {
   "cell_type": "code",
   "execution_count": 7,
   "metadata": {},
   "outputs": [
    {
     "data": {
      "text/plain": [
       "{'type': 'Feature',\n",
       " 'geometry': {'type': 'GeometryCollection',\n",
       "  'geometries': [{'type': 'Point',\n",
       "    'coordinates': [145.2756619490001, -33.63902395899993]},\n",
       "   {'type': 'GeometryCollection',\n",
       "    'geometries': [{'type': 'Polygon',\n",
       "      'coordinates': [[[145.274936214, -33.6377152549999],\n",
       "        [145.275150366, -33.637798537],\n",
       "        [145.275293133, -33.638036483],\n",
       "        [145.275364516, -33.6384885799999],\n",
       "        [145.275197954, -33.638916883],\n",
       "        [145.275257441, -33.639059652],\n",
       "        [145.27548349, -33.639309495],\n",
       "        [145.275638155, -33.6394284679999],\n",
       "        [145.275495387, -33.6395712349999],\n",
       "        [145.274983803, -33.6393451869999],\n",
       "        [145.274805343, -33.638916883],\n",
       "        [145.274781548, -33.638595656],\n",
       "        [145.274852933, -33.638036483],\n",
       "        [145.274817241, -33.6377866399999],\n",
       "        [145.274936214, -33.6377152549999]]]}]}]},\n",
       " 'properties': {'title': 'Gunbar Station',\n",
       "  'link': 'http://www.rfs.nsw.gov.au/fire-information/fires-near-me',\n",
       "  'category': 'Advice',\n",
       "  'guid': 'https://incidents.rfs.nsw.gov.au/api/v1/incidents/404416',\n",
       "  'guid_isPermaLink': 'true',\n",
       "  'pubDate': '10/01/2021 10:00:00 PM',\n",
       "  'description': 'ALERT LEVEL: Advice <br />LOCATION: Gunbar Rd, Gunbar, NSW 2711 <br />COUNCIL AREA: Carrathool <br />STATUS: Under control <br />TYPE: Bush Fire <br />FIRE: Yes <br />SIZE: 4 ha <br />RESPONSIBLE AGENCY: Rural Fire Service <br />UPDATED: 11 Jan 2021 09:00'}}"
      ]
     },
     "execution_count": 7,
     "metadata": {},
     "output_type": "execute_result"
    }
   ],
   "source": [
    "south_wales_local = pd.read_json('http://www.rfs.nsw.gov.au/feeds/majorIncidents.json')\n",
    "south_wales_local.iloc[0,1]"
   ]
  },
  {
   "cell_type": "code",
   "execution_count": null,
   "metadata": {},
   "outputs": [],
   "source": [
    "resp = requests.get(url=url)\n",
    "json_data = resp.json()\n",
    "df = pd.json_normalize(json_data['features'])"
   ]
  },
  {
   "cell_type": "code",
   "execution_count": 3,
   "metadata": {},
   "outputs": [
    {
     "data": {
      "text/html": [
       "<div>\n",
       "<style scoped>\n",
       "    .dataframe tbody tr th:only-of-type {\n",
       "        vertical-align: middle;\n",
       "    }\n",
       "\n",
       "    .dataframe tbody tr th {\n",
       "        vertical-align: top;\n",
       "    }\n",
       "\n",
       "    .dataframe thead th {\n",
       "        text-align: right;\n",
       "    }\n",
       "</style>\n",
       "<table border=\"1\" class=\"dataframe\">\n",
       "  <thead>\n",
       "    <tr style=\"text-align: right;\">\n",
       "      <th></th>\n",
       "      <th>title</th>\n",
       "      <th>link</th>\n",
       "      <th>category</th>\n",
       "      <th>guid</th>\n",
       "      <th>guid_isPermaLink</th>\n",
       "      <th>pubDate</th>\n",
       "      <th>description</th>\n",
       "      <th>geometry</th>\n",
       "    </tr>\n",
       "  </thead>\n",
       "  <tbody>\n",
       "    <tr>\n",
       "      <th>0</th>\n",
       "      <td>Gunbar Station</td>\n",
       "      <td>http://www.rfs.nsw.gov.au/fire-information/fir...</td>\n",
       "      <td>Advice</td>\n",
       "      <td>https://incidents.rfs.nsw.gov.au/api/v1/incide...</td>\n",
       "      <td>true</td>\n",
       "      <td>10/01/2021 10:00:00 PM</td>\n",
       "      <td>ALERT LEVEL: Advice &lt;br /&gt;LOCATION: Gunbar Rd,...</td>\n",
       "      <td>GEOMETRYCOLLECTION (POINT (145.27566 -33.63902...</td>\n",
       "    </tr>\n",
       "    <tr>\n",
       "      <th>1</th>\n",
       "      <td>Hanels Road</td>\n",
       "      <td>http://www.rfs.nsw.gov.au/fire-information/fir...</td>\n",
       "      <td>Advice</td>\n",
       "      <td>https://incidents.rfs.nsw.gov.au/api/v1/incide...</td>\n",
       "      <td>true</td>\n",
       "      <td>11/01/2021 8:00:00 AM</td>\n",
       "      <td>ALERT LEVEL: Advice &lt;br /&gt;LOCATION: Hanels Roa...</td>\n",
       "      <td>POINT (147.31230 -35.90899)</td>\n",
       "    </tr>\n",
       "    <tr>\n",
       "      <th>2</th>\n",
       "      <td>River Rd, Whitton</td>\n",
       "      <td>http://www.rfs.nsw.gov.au/fire-information/fir...</td>\n",
       "      <td>Advice</td>\n",
       "      <td>https://incidents.rfs.nsw.gov.au/api/v1/incide...</td>\n",
       "      <td>true</td>\n",
       "      <td>11/01/2021 11:01:00 AM</td>\n",
       "      <td>ALERT LEVEL: Advice &lt;br /&gt;LOCATION: River Rd, ...</td>\n",
       "      <td>POINT (146.15913 -34.59955)</td>\n",
       "    </tr>\n",
       "    <tr>\n",
       "      <th>3</th>\n",
       "      <td>Robbs Lane, Chatsbury</td>\n",
       "      <td>http://www.rfs.nsw.gov.au/fire-information/fir...</td>\n",
       "      <td>Advice</td>\n",
       "      <td>https://incidents.rfs.nsw.gov.au/api/v1/incide...</td>\n",
       "      <td>true</td>\n",
       "      <td>11/01/2021 5:18:00 AM</td>\n",
       "      <td>ALERT LEVEL: Advice &lt;br /&gt;LOCATION: 57 Robbs L...</td>\n",
       "      <td>POINT (149.75955 -34.54640)</td>\n",
       "    </tr>\n",
       "    <tr>\n",
       "      <th>4</th>\n",
       "      <td>Whitton Darlington Point Rd, Whitton</td>\n",
       "      <td>http://www.rfs.nsw.gov.au/fire-information/fir...</td>\n",
       "      <td>Advice</td>\n",
       "      <td>https://incidents.rfs.nsw.gov.au/api/v1/incide...</td>\n",
       "      <td>true</td>\n",
       "      <td>11/01/2021 11:35:00 PM</td>\n",
       "      <td>ALERT LEVEL: Advice &lt;br /&gt;LOCATION: Whitton Da...</td>\n",
       "      <td>POINT (146.17378 -34.53456)</td>\n",
       "    </tr>\n",
       "  </tbody>\n",
       "</table>\n",
       "</div>"
      ],
      "text/plain": [
       "                                  title  ...                                           geometry\n",
       "0                        Gunbar Station  ...  GEOMETRYCOLLECTION (POINT (145.27566 -33.63902...\n",
       "1                           Hanels Road  ...                        POINT (147.31230 -35.90899)\n",
       "2                     River Rd, Whitton  ...                        POINT (146.15913 -34.59955)\n",
       "3                 Robbs Lane, Chatsbury  ...                        POINT (149.75955 -34.54640)\n",
       "4  Whitton Darlington Point Rd, Whitton  ...                        POINT (146.17378 -34.53456)\n",
       "\n",
       "[5 rows x 8 columns]"
      ]
     },
     "execution_count": 3,
     "metadata": {},
     "output_type": "execute_result"
    }
   ],
   "source": [
    "import geopandas\n",
    "gdf = geopandas.read_file(url)\n",
    "gdf.head()"
   ]
  },
  {
   "cell_type": "markdown",
   "metadata": {},
   "source": [
    "# Per Region"
   ]
  },
  {
   "cell_type": "code",
   "execution_count": 9,
   "metadata": {},
   "outputs": [
    {
     "data": {
      "text/html": [
       "<div>\n",
       "<style scoped>\n",
       "    .dataframe tbody tr th:only-of-type {\n",
       "        vertical-align: middle;\n",
       "    }\n",
       "\n",
       "    .dataframe tbody tr th {\n",
       "        vertical-align: top;\n",
       "    }\n",
       "\n",
       "    .dataframe thead th {\n",
       "        text-align: right;\n",
       "    }\n",
       "</style>\n",
       "<table border=\"1\" class=\"dataframe\">\n",
       "  <thead>\n",
       "    <tr style=\"text-align: right;\">\n",
       "      <th></th>\n",
       "      <th>Region</th>\n",
       "      <th>Date</th>\n",
       "      <th>Estimated_fire_area</th>\n",
       "      <th>Mean_estimated_fire_brightness</th>\n",
       "      <th>Mean_estimated_fire_radiative_power</th>\n",
       "      <th>Mean_confidence</th>\n",
       "      <th>Std_confidence</th>\n",
       "      <th>Var_confidence</th>\n",
       "      <th>Count</th>\n",
       "      <th>Replaced</th>\n",
       "    </tr>\n",
       "  </thead>\n",
       "  <tbody>\n",
       "    <tr>\n",
       "      <th>0</th>\n",
       "      <td>NSW</td>\n",
       "      <td>2005-01-04</td>\n",
       "      <td>8.68000</td>\n",
       "      <td>312.266667</td>\n",
       "      <td>42.400000</td>\n",
       "      <td>78.666667</td>\n",
       "      <td>2.886751</td>\n",
       "      <td>8.333333</td>\n",
       "      <td>3</td>\n",
       "      <td>R</td>\n",
       "    </tr>\n",
       "    <tr>\n",
       "      <th>1</th>\n",
       "      <td>NSW</td>\n",
       "      <td>2005-01-05</td>\n",
       "      <td>16.61125</td>\n",
       "      <td>322.475000</td>\n",
       "      <td>62.362500</td>\n",
       "      <td>85.500000</td>\n",
       "      <td>8.088793</td>\n",
       "      <td>65.428571</td>\n",
       "      <td>8</td>\n",
       "      <td>R</td>\n",
       "    </tr>\n",
       "    <tr>\n",
       "      <th>2</th>\n",
       "      <td>NSW</td>\n",
       "      <td>2005-01-06</td>\n",
       "      <td>5.52000</td>\n",
       "      <td>325.266667</td>\n",
       "      <td>38.400000</td>\n",
       "      <td>78.333333</td>\n",
       "      <td>3.214550</td>\n",
       "      <td>10.333333</td>\n",
       "      <td>3</td>\n",
       "      <td>R</td>\n",
       "    </tr>\n",
       "    <tr>\n",
       "      <th>3</th>\n",
       "      <td>NSW</td>\n",
       "      <td>2005-01-07</td>\n",
       "      <td>6.26400</td>\n",
       "      <td>313.870000</td>\n",
       "      <td>33.800000</td>\n",
       "      <td>92.200000</td>\n",
       "      <td>7.529940</td>\n",
       "      <td>56.700000</td>\n",
       "      <td>5</td>\n",
       "      <td>R</td>\n",
       "    </tr>\n",
       "    <tr>\n",
       "      <th>4</th>\n",
       "      <td>NSW</td>\n",
       "      <td>2005-01-08</td>\n",
       "      <td>5.40000</td>\n",
       "      <td>337.383333</td>\n",
       "      <td>122.533333</td>\n",
       "      <td>91.000000</td>\n",
       "      <td>7.937254</td>\n",
       "      <td>63.000000</td>\n",
       "      <td>3</td>\n",
       "      <td>R</td>\n",
       "    </tr>\n",
       "  </tbody>\n",
       "</table>\n",
       "</div>"
      ],
      "text/plain": [
       "  Region       Date  Estimated_fire_area  ...  Var_confidence  Count  Replaced\n",
       "0    NSW 2005-01-04              8.68000  ...        8.333333      3         R\n",
       "1    NSW 2005-01-05             16.61125  ...       65.428571      8         R\n",
       "2    NSW 2005-01-06              5.52000  ...       10.333333      3         R\n",
       "3    NSW 2005-01-07              6.26400  ...       56.700000      5         R\n",
       "4    NSW 2005-01-08              5.40000  ...       63.000000      3         R\n",
       "\n",
       "[5 rows x 10 columns]"
      ]
     },
     "execution_count": 9,
     "metadata": {},
     "output_type": "execute_result"
    }
   ],
   "source": [
    "path_wildfires = \"data/wildfires_data.csv\"\n",
    "wildfires_df = pd.read_csv(path_wildfires)\n",
    "wildfires_df['Date'] = pd.to_datetime(wildfires_df['Date'])\n",
    "wildfires_df.head()"
   ]
  },
  {
   "cell_type": "code",
   "execution_count": null,
   "metadata": {},
   "outputs": [],
   "source": [
    "wildfires_df.describe().transpose()"
   ]
  },
  {
   "cell_type": "code",
   "execution_count": null,
   "metadata": {},
   "outputs": [],
   "source": [
    "print(\"Number of rows: {}\".format(len(wildfires_df)))\n",
    "print(\"Number of regions: {}\\n\".format(len(wildfires_df['Region'].unique())))"
   ]
  },
  {
   "cell_type": "code",
   "execution_count": null,
   "metadata": {},
   "outputs": [],
   "source": []
  },
  {
   "cell_type": "code",
   "execution_count": null,
   "metadata": {},
   "outputs": [],
   "source": []
  },
  {
   "cell_type": "code",
   "execution_count": null,
   "metadata": {},
   "outputs": [],
   "source": []
  },
  {
   "cell_type": "code",
   "execution_count": null,
   "metadata": {},
   "outputs": [],
   "source": []
  },
  {
   "cell_type": "code",
   "execution_count": null,
   "metadata": {},
   "outputs": [],
   "source": []
  },
  {
   "cell_type": "code",
   "execution_count": null,
   "metadata": {},
   "outputs": [],
   "source": []
  },
  {
   "cell_type": "code",
   "execution_count": null,
   "metadata": {},
   "outputs": [],
   "source": []
  },
  {
   "cell_type": "code",
   "execution_count": null,
   "metadata": {},
   "outputs": [],
   "source": []
  }
 ],
 "metadata": {
  "kernelspec": {
   "display_name": "Python 3",
   "language": "python",
   "name": "python3"
  },
  "language_info": {
   "codemirror_mode": {
    "name": "ipython",
    "version": 3
   },
   "file_extension": ".py",
   "mimetype": "text/x-python",
   "name": "python",
   "nbconvert_exporter": "python",
   "pygments_lexer": "ipython3",
   "version": "3.8.2"
  },
  "toc": {
   "base_numbering": 1,
   "nav_menu": {},
   "number_sections": false,
   "sideBar": true,
   "skip_h1_title": false,
   "title_cell": "Table of Contents",
   "title_sidebar": "Contents",
   "toc_cell": true,
   "toc_position": {
    "height": "calc(100% - 180px)",
    "left": "10px",
    "top": "150px",
    "width": "165px"
   },
   "toc_section_display": true,
   "toc_window_display": true
  }
 },
 "nbformat": 4,
 "nbformat_minor": 4
}
